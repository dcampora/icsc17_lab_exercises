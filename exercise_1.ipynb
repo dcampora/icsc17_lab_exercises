{
 "cells": [
  {
   "cell_type": "markdown",
   "metadata": {},
   "source": [
    "Machine learning with TensorFlow\n",
    "================================\n",
    "\n",
    "[TensorFlow](https://www.tensorflow.org) is a library that allows you to do machine learning related computation in a very straightforward way. It's quite powerful as well, as a proper installation can run on CPUs and GPUs, with various degrees of optimizations depending on the capabilities of your system."
   ]
  },
  {
   "cell_type": "markdown",
   "metadata": {},
   "source": [
    "Tensors\n",
    "=======\n",
    "\n",
    "The central unit of data in TensorFlow is the tensor. A tensor consists of a set of primitive values shaped into an array of any number of dimensions. A tensor's rank is its number of dimensions. Here are some examples of tensors:"
   ]
  },
  {
   "cell_type": "code",
   "execution_count": null,
   "metadata": {
    "collapsed": true
   },
   "outputs": [],
   "source": [
    "import sys\n",
    "sys.path.append(\"/eos/user/d/dcampora/lab/site-packages\")\n",
    "import tensorflow as tf"
   ]
  },
  {
   "cell_type": "code",
   "execution_count": null,
   "metadata": {
    "collapsed": false
   },
   "outputs": [
    {
     "data": {
      "text/plain": [
       "[[[1.0, 2.0, 3.0]], [[7.0, 8.0, 9.0]]]"
      ]
     },
     "execution_count": 2,
     "metadata": {},
     "output_type": "execute_result"
    }
   ],
   "source": [
    "3 # a rank 0 tensor; this is a scalar with shape []\n",
    "[1., 2., 3.] # a rank 1 tensor; this is a vector with shape [3]\n",
    "[[1., 2., 3.], [4., 5., 6.]] # a rank 2 tensor; a matrix with shape [2, 3]\n",
    "[[[1., 2., 3.]], [[7., 8., 9.]]] # a rank 3 tensor with shape [2, 1, 3]"
   ]
  },
  {
   "cell_type": "markdown",
   "metadata": {},
   "source": [
    "A TensorFlow program consists of two parts:\n",
    "\n",
    "1. Building the computational graph\n",
    "2. Running the computational graph\n",
    "\n",
    "A computational graph is a series of TensorFlow operations arranged into a graph of nodes. Each node takes zero or more tensors as inputs and produces a tensor as an output. We can build complicated computations by combining tensor nodes with operations.\n",
    "\n",
    "Here is a simple computational graph that adds two numbers:"
   ]
  },
  {
   "cell_type": "code",
   "execution_count": null,
   "metadata": {
    "collapsed": false
   },
   "outputs": [],
   "source": [
    "import tensorflow as tf\n",
    "\n",
    "node1 = tf.constant(3.0, tf.float32)\n",
    "node2 = tf.constant(4.0) # also tf.float32 implicitly\n",
    "node3 = tf.add(node1, node2) # node3 is an operation node: it adds node1 and node2\n",
    "\n",
    "print(node1)\n",
    "print(node2)\n",
    "print(node3)"
   ]
  },
  {
   "cell_type": "markdown",
   "metadata": {},
   "source": [
    "After creating our computational graph, we can run it:"
   ]
  },
  {
   "cell_type": "code",
   "execution_count": null,
   "metadata": {
    "collapsed": false
   },
   "outputs": [
    {
     "name": "stdout",
     "output_type": "stream",
     "text": [
      "sess.run(node3):  7.0\n"
     ]
    }
   ],
   "source": [
    "sess = tf.Session()\n",
    "print \"sess.run(node3): \", sess.run(node3)"
   ]
  },
  {
   "cell_type": "markdown",
   "metadata": {},
   "source": [
    "This produces a constant result, so it's not particularly interesting. We can add variables to the frey:"
   ]
  },
  {
   "cell_type": "code",
   "execution_count": null,
   "metadata": {
    "collapsed": false
   },
   "outputs": [
    {
     "name": "stdout",
     "output_type": "stream",
     "text": [
      "7.5\n",
      "[ 3.  7.]\n"
     ]
    }
   ],
   "source": [
    "a = tf.placeholder(tf.float32)\n",
    "b = tf.placeholder(tf.float32)\n",
    "adder_node = a + b  # + provides a shortcut for tf.add(a, b)\n",
    "\n",
    "# Run the above example with various settings\n",
    "print(sess.run(adder_node, {a: 3, b: 4.5}))\n",
    "print(sess.run(adder_node, {a: [1,3], b: [2,4]}))"
   ]
  },
  {
   "cell_type": "markdown",
   "metadata": {},
   "source": [
    "We can make graphs as complicated as need be. For instance,\n",
    "\n",
    "<img src=\"mlst_0901.png\" alt=\"Computational graph\" style=\"width: 400px;\"/>"
   ]
  },
  {
   "cell_type": "markdown",
   "metadata": {},
   "source": [
    "Linear Regression with TensorFlow\n",
    "=================================\n",
    "\n",
    "Let's make a real life example. The following is a Linear Regression, trained with TensorFlow."
   ]
  },
  {
   "cell_type": "code",
   "execution_count": null,
   "metadata": {
    "collapsed": false
   },
   "outputs": [
    {
     "name": "stdout",
     "output_type": "stream",
     "text": [
      "Theta 0: [-0.97962707] theta 1: [ 0.94010121] error: 0.0254605\n"
     ]
    }
   ],
   "source": [
    "# Input and output\n",
    "x = tf.placeholder(tf.float32)\n",
    "y = tf.placeholder(tf.float32)\n",
    "\n",
    "# Model parameters\n",
    "theta_0 = tf.Variable([0.], tf.float32)\n",
    "theta_1 = tf.Variable([0.], tf.float32)\n",
    "\n",
    "# Model\n",
    "linear_model = theta_0 * x + theta_1\n",
    "\n",
    "# Cost function: Mean Squares Error\n",
    "error = tf.reduce_mean(tf.square(linear_model - y))\n",
    "\n",
    "# Update Rule: Gradient Descent \n",
    "learning_rate = 0.01\n",
    "optimizer = tf.train.GradientDescentOptimizer(learning_rate)\n",
    "train = optimizer.minimize(error)\n",
    "\n",
    "# Training set\n",
    "x_train = [1,2,3,4]\n",
    "y_train = [0,-1,-2,-3]\n",
    "\n",
    "# Training loop\n",
    "epochs = 1000\n",
    "sess = tf.Session()\n",
    "sess.run(tf.global_variables_initializer()) # reset values\n",
    "for i in range(epochs):\n",
    "  sess.run(train, {x:x_train, y:y_train})\n",
    "\n",
    "# Test set\n",
    "x_test = [5,9,12,14]\n",
    "y_test = [-4,-8,-11,-13]\n",
    "\n",
    "# Validate our trained model\n",
    "curr_theta_0, curr_theta_1, curr_error  = sess.run([theta_0, theta_1, error], {x:x_test, y:y_test})\n",
    "print(\"Theta 0: %s theta 1: %s error: %s\" % (curr_theta_0, curr_theta_1, curr_error))"
   ]
  },
  {
   "cell_type": "markdown",
   "metadata": {},
   "source": [
    "Exercise 1\n",
    "----------\n",
    "\n",
    "Let's load the California housing dataset."
   ]
  },
  {
   "cell_type": "code",
   "execution_count": null,
   "metadata": {
    "collapsed": false
   },
   "outputs": [
    {
     "name": "stdout",
     "output_type": "stream",
     "text": [
      "California housing dataset.\n",
      "\n",
      "The original database is available from StatLib\n",
      "\n",
      "    http://lib.stat.cmu.edu/\n",
      "\n",
      "The data contains 20,640 observations on 9 variables.\n",
      "\n",
      "This dataset contains the average house value as target variable\n",
      "and the following input variables (features): average income,\n",
      "housing average age, average rooms, average bedrooms, population,\n",
      "average occupation, latitude, and longitude in that order.\n",
      "\n",
      "References\n",
      "----------\n",
      "\n",
      "Pace, R. Kelley and Ronald Barry, Sparse Spatial Autoregressions,\n",
      "Statistics and Probability Letters, 33 (1997) 291-297.\n",
      "\n",
      "\n"
     ]
    }
   ],
   "source": [
    "import pickle\n",
    "housing = pickle.load(open(\"housing_california.p\", \"rb\"))\n",
    "print(housing[\"DESCR\"])"
   ]
  },
  {
   "cell_type": "markdown",
   "metadata": {},
   "source": [
    "The data is structured in an array, and you can obtain information of what each field means."
   ]
  },
  {
   "cell_type": "code",
   "execution_count": null,
   "metadata": {
    "collapsed": false
   },
   "outputs": [
    {
     "name": "stdout",
     "output_type": "stream",
     "text": [
      "['MedInc', 'HouseAge', 'AveRooms', 'AveBedrms', 'Population', 'AveOccup', 'Latitude', 'Longitude']\n",
      "[[   8.3252       41.            6.98412698 ...,    2.55555556   37.88\n",
      "  -122.23      ]\n",
      " [   8.3014       21.            6.23813708 ...,    2.10984183   37.86\n",
      "  -122.22      ]\n",
      " [   7.2574       52.            8.28813559 ...,    2.80225989   37.85\n",
      "  -122.24      ]\n",
      " ..., \n",
      " [   1.7          17.            5.20554273 ...,    2.3256351    39.43\n",
      "  -121.22      ]\n",
      " [   1.8672       18.            5.32951289 ...,    2.12320917   39.43\n",
      "  -121.32      ]\n",
      " [   2.3886       16.            5.25471698 ...,    2.61698113   39.37\n",
      "  -121.24      ]]\n"
     ]
    }
   ],
   "source": [
    "print(housing[\"feature_names\"])\n",
    "print(housing[\"data\"])"
   ]
  },
  {
   "cell_type": "markdown",
   "metadata": {},
   "source": [
    "The target value, the price of the house, is in a separate field,"
   ]
  },
  {
   "cell_type": "code",
   "execution_count": null,
   "metadata": {
    "collapsed": false
   },
   "outputs": [
    {
     "name": "stdout",
     "output_type": "stream",
     "text": [
      "[ 4.526  3.585  3.521 ...,  0.923  0.847  0.894]\n"
     ]
    }
   ],
   "source": [
    "print(housing[\"target\"])"
   ]
  },
  {
   "cell_type": "markdown",
   "metadata": {},
   "source": [
    "Now you know the basics,\n",
    "\n",
    "* Modify the Linear Regression example to learn the price based on the \"AveRooms\" parameter.\n",
    "* [Bonus] Modify the Linear Regression example to learn the price based on all parameters."
   ]
  },
  {
   "cell_type": "code",
   "execution_count": null,
   "metadata": {
    "collapsed": true
   },
   "outputs": [],
   "source": []
  }
 ],
 "metadata": {
  "kernelspec": {
   "display_name": "Python 2",
   "language": "python",
   "name": "python2"
  },
  "language_info": {
   "codemirror_mode": {
    "name": "ipython",
    "version": 2
   },
   "file_extension": ".py",
   "mimetype": "text/x-python",
   "name": "python",
   "nbconvert_exporter": "python",
   "pygments_lexer": "ipython2",
   "version": "2.7.10"
  }
 },
 "nbformat": 4,
 "nbformat_minor": 0
}
