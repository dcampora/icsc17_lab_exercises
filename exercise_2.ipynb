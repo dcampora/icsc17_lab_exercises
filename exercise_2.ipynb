{
 "cells": [
  {
   "cell_type": "markdown",
   "metadata": {
    "collapsed": true
   },
   "source": [
    "Convolutional neural networks\n",
    "=============================\n",
    "\n",
    "In this exercise, we will have a go at Convolutional Neural Networks (CNNs). This type of Neural Networks specializes in image treatment.\n",
    "\n",
    "This time round, we will be using a wrapper on top of tensorflow to make our life easier. [TFLearn](http://tflearn.org/) exposes a higher level API for Tensorflow."
   ]
  },
  {
   "cell_type": "code",
   "execution_count": null,
   "metadata": {
    "collapsed": false
   },
   "outputs": [],
   "source": [
    "import sys\n",
    "sys.path.append(\"/eos/user/d/dcampora/lab/site-packages\")\n",
    "\n",
    "# Import tflearn and some helpers\n",
    "import tensorflow as tf\n",
    "import tflearn\n",
    "from tflearn.data_utils import shuffle, to_categorical\n",
    "from tflearn.layers.core import input_data, dropout, fully_connected\n",
    "from tflearn.layers.conv import conv_2d, max_pool_2d\n",
    "from tflearn.layers.estimator import regression\n",
    "from tflearn.data_preprocessing import ImagePreprocessing\n",
    "from tflearn.data_augmentation import ImageAugmentation\n",
    "from tflearn.optimizers import SGD \n",
    "from __future__ import division, print_function, absolute_import"
   ]
  },
  {
   "cell_type": "markdown",
   "metadata": {},
   "source": [
    "The [CIFAR-10](https://www.cs.toronto.edu/~kriz/cifar.html) dataset consists of 60000 32x32 colour images in 10 classes, with 6000 images per class. There are 50000 training images and 10000 test images.\n",
    "\n",
    "The dataset is divided into five training batches and one test batch, each with 10000 images. The test batch contains exactly 1000 randomly-selected images from each class. The training batches contain the remaining images in random order, but some training batches may contain more images from one class than another. Between them, the training batches contain exactly 5000 images from each class.\n",
    "\n",
    "The classes of images in CIFAR-10 are:\n",
    "* airplane\n",
    "* automobile\n",
    "* bird\n",
    "* cat\n",
    "* deer\n",
    "* dog\n",
    "* frog\n",
    "* horse\n",
    "* ship\n",
    "* truck\n",
    "\n",
    "Let's load the first batch, and show some of its pictures."
   ]
  },
  {
   "cell_type": "code",
   "execution_count": null,
   "metadata": {
    "collapsed": false
   },
   "outputs": [],
   "source": [
    "import numpy as np\n",
    "import matplotlib.pyplot as plt\n",
    "%matplotlib inline\n",
    "import cPickle\n",
    "\n",
    "# CIFAR-10 types\n",
    "(AIRPLANE, AUTOMOBILE, BIRD, CAT, DEER, DOG, FROG, HORSE, SHIP, TRUCK) = (0, 1, 2, 3, 4, 5, 6, 7, 8, 9)\n",
    "\n",
    "# Load first data batch\n",
    "f = open('/eos/user/d/dcampora/lab/cifar-10-batches-py/data_batch_1', 'rb')\n",
    "data_batch_dict = cPickle.load(f)\n",
    "f.close()\n",
    "x = data_batch_dict['data']\n",
    "y = data_batch_dict['labels']\n",
    "x = x.reshape(10000, 3, 32, 32).transpose(0,2,3,1).astype('float')\n",
    "y = np.array(y)\n",
    "\n",
    "# Visualize CIFAR 10\n",
    "print(\"Some random pictures\")\n",
    "fig, axes1 = plt.subplots(5,5,figsize=(3,3))\n",
    "for j in range(5):\n",
    "    for k in range(5):\n",
    "        i = np.random.choice(range(len(x)))\n",
    "        axes1[j][k].set_axis_off()\n",
    "        axes1[j][k].imshow(x[i:i+1][0])\n",
    "        \n",
    "# Shuffle and normalize data\n",
    "x, y = shuffle(x, y)\n",
    "x = x / 256.\n",
    "y = to_categorical(y, 10)"
   ]
  },
  {
   "cell_type": "markdown",
   "metadata": {},
   "source": [
    "Note the images you see vary quite a lot. The images have different colors and shapes, but also are taken from different angles, some of them are cropped or stretched, and the object is not always easily distinguishible, to the point sometimes it wouldn't be easy for a human to classify such picture.\n",
    "\n",
    "We have the data, now we need the validation set, and we are ready to work with CIFAR-10."
   ]
  },
  {
   "cell_type": "code",
   "execution_count": null,
   "metadata": {
    "collapsed": false
   },
   "outputs": [],
   "source": [
    "# Load validation set\n",
    "f = open('/eos/user/d/dcampora/lab/cifar-10-batches-py/test_batch', 'rb')\n",
    "test_batch_dict = cPickle.load(f)\n",
    "f.close()\n",
    "x_test = test_batch_dict['data'] \n",
    "y_test = test_batch_dict['labels']\n",
    "x_test = x_test.reshape(10000, 3, 32, 32).transpose(0,2,3,1).astype('float')\n",
    "y_test = np.array(y_test)\n",
    "y_test = to_categorical(y_test, 10)"
   ]
  },
  {
   "cell_type": "markdown",
   "metadata": {},
   "source": [
    "Exercise 2\n",
    "==========\n",
    "Our objective is to classify the pictures as accurately as possible, using a CNN and the ideas we have discussed in the lectures.\n",
    "\n",
    "First, let's tell the framework to generate more data for us, and to generalize the images as required."
   ]
  },
  {
   "cell_type": "code",
   "execution_count": null,
   "metadata": {
    "collapsed": true
   },
   "outputs": [],
   "source": [
    "tf.reset_default_graph()\n",
    "\n",
    "# Make sure the data is normalized\n",
    "img_prep = ImagePreprocessing()\n",
    "img_prep.add_featurewise_zero_center()\n",
    "img_prep.add_featurewise_stdnorm()\n",
    "\n",
    "# Create extra synthetic training data by flipping, rotating and blurring the\n",
    "# images on our data set.\n",
    "img_aug = ImageAugmentation()\n",
    "img_aug.add_random_flip_leftright()\n",
    "img_aug.add_random_rotation(max_angle=25.)\n",
    "img_aug.add_random_blur(sigma_max=3.)"
   ]
  },
  {
   "cell_type": "markdown",
   "metadata": {},
   "source": [
    "We need to define our neural network. Here is a basic structure of it, with a convolutional layer, a pooling layer and a fully connected layer, to produce an output."
   ]
  },
  {
   "cell_type": "code",
   "execution_count": null,
   "metadata": {
    "collapsed": false
   },
   "outputs": [],
   "source": [
    "# CNN input\n",
    "network = input_data(shape=[None, 32, 32, 3],\n",
    "                     data_preprocessing=img_prep,\n",
    "                     data_augmentation=img_aug)\n",
    "\n",
    "# Convolutional layer\n",
    "network = conv_2d(network, 32, 3, activation='relu')\n",
    "\n",
    "# Max pool layer\n",
    "network = max_pool_2d(network, 2)\n",
    "\n",
    "# Fully connected layer\n",
    "network = fully_connected(network, 10, activation='softmax')\n",
    "\n",
    "# Learning rule: Stochastic gradient descent\n",
    "sgd = SGD(learning_rate=0.01, lr_decay=0.96, decay_step=100)\n",
    "\n",
    "network = regression(network,\n",
    "                     optimizer=sgd,\n",
    "                     loss='categorical_crossentropy')"
   ]
  },
  {
   "cell_type": "code",
   "execution_count": null,
   "metadata": {
    "collapsed": false
   },
   "outputs": [],
   "source": [
    "model = tflearn.DNN(network, tensorboard_verbose=0)"
   ]
  },
  {
   "cell_type": "code",
   "execution_count": null,
   "metadata": {
    "collapsed": false
   },
   "outputs": [],
   "source": [
    "model.fit(x, y, n_epoch=10, shuffle=True, validation_set=(x_test, y_test),\n",
    "      show_metric=True, batch_size=96)"
   ]
  },
  {
   "cell_type": "markdown",
   "metadata": {},
   "source": [
    "Unfortunately, the neural network given here is not very accurate.\n",
    "\n",
    "* Modify the Convolutional Neural Network defined above in order to increase the accuracy of your learning.\n",
    "* Hint 1: [TFLearn documentation](http://tflearn.org/getting_started/).\n",
    "* Hint 2: You may want to draw some [inspiration](https://adeshpande3.github.io/adeshpande3.github.io/The-9-Deep-Learning-Papers-You-Need-To-Know-About.html)."
   ]
  }
 ],
 "metadata": {
  "kernelspec": {
   "display_name": "Python 2",
   "language": "python",
   "name": "python2"
  },
  "language_info": {
   "codemirror_mode": {
    "name": "ipython",
    "version": 2
   },
   "file_extension": ".py",
   "mimetype": "text/x-python",
   "name": "python",
   "nbconvert_exporter": "python",
   "pygments_lexer": "ipython2",
   "version": "2.7.10"
  }
 },
 "nbformat": 4,
 "nbformat_minor": 1
}
